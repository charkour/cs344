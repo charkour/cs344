{
 "cells": [
  {
   "cell_type": "markdown",
   "source": [
    "# Homework 3\n",
    "Charles Kornoelje | CS 344 | 4/7/2020 | Cal Uni"
   ],
   "metadata": {
    "collapsed": false
   }
  },
  {
   "cell_type": "markdown",
   "source": [
    "# Exercise 1\n"
   ],
   "metadata": {
    "collapsed": false
   }
  },
  {
   "cell_type": "markdown",
   "source": [
    "![image](./IMG_3302.JPG)"
   ],
   "metadata": {
    "collapsed": false,
    "pycharm": {
     "name": "#%% md\n",
     "is_executing": false
    }
   }
  },
  {
   "cell_type": "markdown",
   "source": [
    "# Exercise 3\n",
    "\n",
    "Begin by importing packages and loading the dataset."
   ],
   "metadata": {
    "collapsed": false
   }
  },
  {
   "cell_type": "code",
   "execution_count": 37,
   "metadata": {
    "collapsed": true,
    "pycharm": {
     "is_executing": false
    }
   },
   "outputs": [],
   "source": [
    "from keras.datasets import boston_housing\n",
    "import pandas as pd\n",
    "import numpy as np"
   ]
  },
  {
   "cell_type": "code",
   "execution_count": 38,
   "outputs": [],
   "source": [
    "(x_train_val, y_train_val), (x_test, y_test) = boston_housing.load_data()"
   ],
   "metadata": {
    "collapsed": false,
    "pycharm": {
     "name": "#%%\n",
     "is_executing": false
    }
   }
  },
  {
   "cell_type": "markdown",
   "source": [
    "## 3.a Show Dimensions"
   ],
   "metadata": {
    "collapsed": false
   }
  },
  {
   "cell_type": "code",
   "execution_count": 39,
   "outputs": [
    {
     "name": "stdout",
     "text": [
      "Data structure dimensions: \n",
      "\tx_train_val shape:\t (404, 13)\n",
      "\ty_train_val shape:\t (404,)\n",
      "\tx_test shape:\t\t (102, 13)\n",
      "\ty_test shape:\t\t (102,)\n"
     ],
     "output_type": "stream"
    }
   ],
   "source": [
    "print(\"Data structure dimensions: \")\n",
    "print(\"\\tx_train_val shape:\\t\", x_train_val.shape)\n",
    "print(\"\\ty_train_val shape:\\t\", y_train_val.shape)\n",
    "print(\"\\tx_test shape:\\t\\t\", x_test.shape)\n",
    "print(\"\\ty_test shape:\\t\\t\", y_test.shape)"
   ],
   "metadata": {
    "collapsed": false,
    "pycharm": {
     "name": "#%%\n",
     "is_executing": false
    }
   }
  },
  {
   "cell_type": "markdown",
   "source": [
    "## 3.b Create proper sets\n",
    "Because of the load_data() function in Keras, we need to first construct DFs in pandas.\n",
    "Keras gives us a training set so we don't need to create out own. \n",
    "Then we will randomize and reindex the train set to remove sorting bias before creating\n",
    "our training and validation sets."
   ],
   "metadata": {
    "collapsed": false
   }
  },
  {
   "cell_type": "code",
   "execution_count": 44,
   "outputs": [],
   "source": [
    "train_val_df = pd.DataFrame(data=x_train_val)\n",
    "train_val_df[\"Targets\"] = y_train_val\n",
    "\n",
    "test_df = pd.DataFrame(data=x_test)\n",
    "test_df[\"Targets\"] = y_test\n",
    "\n",
    "train_val_df = train_val_df.reindex(np.random.permutation(train_val_df.index))\n",
    "\n",
    "train_df = train_val_df.head(303)\n",
    "validate_df  = train_val_df.tail(101)"
   ],
   "metadata": {
    "collapsed": false,
    "pycharm": {
     "name": "#%%\n",
     "is_executing": false
    }
   }
  },
  {
   "cell_type": "markdown",
   "source": [
    "## 3.c Synthetic feature\n",
    "I chose to divide the taxable value of a dwelling by the number\n",
    "of rooms at a dwelling in hopes of providing a single feature that \n",
    "has information about the taxable value per room. Using taxable value\n",
    "per room will hopefully be a good indicator of the median value of houses in Boston."
   ],
   "metadata": {
    "collapsed": false
   }
  },
  {
   "cell_type": "code",
   "execution_count": 46,
   "outputs": [],
   "source": [
    "def synthetic(df):\n",
    "    df = df.copy()\n",
    "    df[\"Tax/Room\"] = df[9] / df[5]\n",
    "    return df\n",
    "    \n",
    "train_df = synthetic(train_df)\n",
    "validate_df = synthetic(validate_df)\n",
    "test_df = synthetic(test_df)"
   ],
   "metadata": {
    "collapsed": false,
    "pycharm": {
     "name": "#%%\n",
     "is_executing": false
    }
   }
  }
 ],
 "metadata": {
  "kernelspec": {
   "display_name": "Python 3",
   "language": "python",
   "name": "python3"
  },
  "language_info": {
   "codemirror_mode": {
    "name": "ipython",
    "version": 2
   },
   "file_extension": ".py",
   "mimetype": "text/x-python",
   "name": "python",
   "nbconvert_exporter": "python",
   "pygments_lexer": "ipython2",
   "version": "2.7.6"
  },
  "pycharm": {
   "stem_cell": {
    "cell_type": "raw",
    "source": [],
    "metadata": {
     "collapsed": false
    }
   }
  }
 },
 "nbformat": 4,
 "nbformat_minor": 0
}