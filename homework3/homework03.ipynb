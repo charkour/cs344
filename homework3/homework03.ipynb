{
 "cells": [
  {
   "cell_type": "markdown",
   "source": [
    "# Homework 3\n",
    "Charles Kornoelje | CS 344 | 4/7/2020 | Cal Uni"
   ],
   "metadata": {
    "collapsed": false
   }
  },
  {
   "cell_type": "markdown",
   "source": [
    "# Exercise 1\n",
    "(The dollar signs do something funky with markdown and I couldn't fix it)\n",
    "\n",
    "Remainder(Price?) = 3/12Entropy(expensive) + 2/12Entropy(min-tier) + 7/12Entropy(cheap)\n",
    "        = 3/12(-1)[1/3lg(1/3)+2/3lg(2/3)] + 0 + 7/12(-1)[3/7lg(3/7)+4/7lg(4/7)]\n",
    "        = 0.804 bits\n",
    "\n",
    "\n",
    "Gain(Price?) = Entropy(Restaurant) - Remainder(Price?)\n",
    "        = 1 - 0.804 = .196 bits\n",
    "\n",
    "The information gain for asking the question Price? results in 0.196 bits which means\n",
    "a little bit of information is gained by asking the question.\n",
    "This is a more valuable question than Patrons? (0 bits), and is less valuable than Types? (0.54 bits).\n",
    "(And it is the same information gain as asking Hungry?)"
   ],
   "metadata": {
    "collapsed": false
   }
  },
  {
   "cell_type": "markdown",
   "source": [
    "# Exercise 2\n",
    "In class, we were able to create a neural network to compute the XOR function by using multiple layers. By relaxing\n",
    "the convention of sequential layers, one is able to simplify the network.\n",
    "\n",
    "The network shown below has five edge weights and two activation functions. The edge weights are multiplied by\n",
    "each node's output that the edge points away from. The inputs can either be 0 or 1. For the center node,\n",
    "the activation function is a Heaviside step function with a threshold of 1.5. If the net input sum is above 1.5, then\n",
    "the node will output 1 which will be multiplied by the edge weight of -2. The bottom node has an activation function\n",
    "of .5 so if the net input sum is above .5, it will output 1 and if not it will output 0.\n",
    "\n",
    "Using this network will correctly compute the XOR function.\n",
    "\n",
    "I do not think it is possible to create a network that is not densely connected because the center node needs to\n",
    "know what value the two input nodes are. I referenced this [webpage](http://mnemstudio.org/neural-networks-multilayer-perceptrons.htm).\n",
    "\n",
    "![image](./IMG_3302.JPG)"
   ],
   "metadata": {
    "collapsed": false,
    "pycharm": {
     "name": "#%% md\n",
     "is_executing": false
    }
   }
  },
  {
   "cell_type": "markdown",
   "source": [
    "# Exercise 3\n",
    "\n",
    "Begin by importing packages and loading the dataset."
   ],
   "metadata": {
    "collapsed": false
   }
  },
  {
   "cell_type": "code",
   "execution_count": 37,
   "metadata": {
    "collapsed": true,
    "pycharm": {
     "is_executing": false
    }
   },
   "outputs": [],
   "source": [
    "from keras.datasets import boston_housing\n",
    "import pandas as pd\n",
    "import numpy as np"
   ]
  },
  {
   "cell_type": "code",
   "execution_count": 38,
   "outputs": [],
   "source": [
    "(x_train_val, y_train_val), (x_test, y_test) = boston_housing.load_data()"
   ],
   "metadata": {
    "collapsed": false,
    "pycharm": {
     "name": "#%%\n",
     "is_executing": false
    }
   }
  },
  {
   "cell_type": "markdown",
   "source": [
    "## 3.a Show Dimensions"
   ],
   "metadata": {
    "collapsed": false
   }
  },
  {
   "cell_type": "code",
   "execution_count": 39,
   "outputs": [
    {
     "name": "stdout",
     "text": [
      "Data structure dimensions: \n",
      "\tx_train_val shape:\t (404, 13)\n",
      "\ty_train_val shape:\t (404,)\n",
      "\tx_test shape:\t\t (102, 13)\n",
      "\ty_test shape:\t\t (102,)\n"
     ],
     "output_type": "stream"
    }
   ],
   "source": [
    "print(\"Data structure dimensions: \")\n",
    "print(\"\\tx_train_val shape:\\t\", x_train_val.shape)\n",
    "print(\"\\ty_train_val shape:\\t\", y_train_val.shape)\n",
    "print(\"\\tx_test shape:\\t\\t\", x_test.shape)\n",
    "print(\"\\ty_test shape:\\t\\t\", y_test.shape)"
   ],
   "metadata": {
    "collapsed": false,
    "pycharm": {
     "name": "#%%\n",
     "is_executing": false
    }
   }
  },
  {
   "cell_type": "markdown",
   "source": [
    "## 3.b Create proper sets\n",
    "Because of the load_data() function in Keras, we need to first construct DFs in pandas.\n",
    "Keras gives us a training set so we don't need to create out own. \n",
    "Then we will randomize and reindex the train set to remove sorting bias before creating\n",
    "our training and validation sets."
   ],
   "metadata": {
    "collapsed": false
   }
  },
  {
   "cell_type": "code",
   "execution_count": 44,
   "outputs": [],
   "source": [
    "train_val_df = pd.DataFrame(data=x_train_val)\n",
    "train_val_df[\"Targets\"] = y_train_val\n",
    "\n",
    "test_df = pd.DataFrame(data=x_test)\n",
    "test_df[\"Targets\"] = y_test\n",
    "\n",
    "train_val_df = train_val_df.reindex(np.random.permutation(train_val_df.index))\n",
    "\n",
    "train_df = train_val_df.head(303)\n",
    "validate_df  = train_val_df.tail(101)"
   ],
   "metadata": {
    "collapsed": false,
    "pycharm": {
     "name": "#%%\n",
     "is_executing": false
    }
   }
  },
  {
   "cell_type": "markdown",
   "source": [
    "## 3.c Synthetic feature\n",
    "I chose to divide the taxable value of a dwelling by the number\n",
    "of rooms at a dwelling in hopes of providing a single feature that \n",
    "has information about the taxable value per room. Using taxable value\n",
    "per room will hopefully be a good indicator of the median value of houses in Boston."
   ],
   "metadata": {
    "collapsed": false
   }
  },
  {
   "cell_type": "code",
   "execution_count": 46,
   "outputs": [],
   "source": [
    "def synthetic(df):\n",
    "    df = df.copy()\n",
    "    df[\"Tax/Room\"] = df[9] / df[5]\n",
    "    return df\n",
    "    \n",
    "train_df = synthetic(train_df)\n",
    "validate_df = synthetic(validate_df)\n",
    "test_df = synthetic(test_df)"
   ],
   "metadata": {
    "collapsed": false,
    "pycharm": {
     "name": "#%%\n",
     "is_executing": false
    }
   }
  }
 ],
 "metadata": {
  "kernelspec": {
   "display_name": "Python 3",
   "language": "python",
   "name": "python3"
  },
  "language_info": {
   "codemirror_mode": {
    "name": "ipython",
    "version": 2
   },
   "file_extension": ".py",
   "mimetype": "text/x-python",
   "name": "python",
   "nbconvert_exporter": "python",
   "pygments_lexer": "ipython2",
   "version": "2.7.6"
  },
  "pycharm": {
   "stem_cell": {
    "cell_type": "raw",
    "source": [],
    "metadata": {
     "collapsed": false
    }
   }
  }
 },
 "nbformat": 4,
 "nbformat_minor": 0
}