{
 "cells": [
  {
   "cell_type": "markdown",
   "metadata": {
    "collapsed": true,
    "pycharm": {
     "name": "#%% md\n"
    }
   },
   "source": [
    "# Homework 2\n",
    "## Charles Kornoelje\n",
    "### CS 344\n"
   ]
  },
  {
   "cell_type": "markdown",
   "source": [
    "# Problem 1: Spam filter\n"
   ],
   "metadata": {
    "collapsed": false
   }
  },
  {
   "cell_type": "code",
   "execution_count": null,
   "outputs": [],
   "source": [
    "from collections import Counter\n",
    "\n",
    "# Filter based on Paul Graham’s A Plan for Spam, and Prof. VL's email.\n",
    "\n",
    "# Minimum occurrence threshold count\n",
    "THRESHOLD = 1\n",
    "\n",
    "spam_corpus = [[\"I\", \"am\", \"spam\", \"spam\", \"I\", \"am\"], [\"I\", \"do\", \"not\", \"like\", \"that\", \"spamiam\"]]\n",
    "ham_corpus = [[\"do\", \"i\", \"like\", \"green\", \"eggs\", \"and\", \"ham\"], [\"i\", \"do\"]]\n",
    "\n",
    "def count_occurrences(corpus, count):\n",
    "    \"\"\" Counts the number of word occurrences in the corpora.\n",
    "    Referenced: https://www.geeksforgeeks.org/python-combine-two-dictionary-adding-values-for-common-keys/\n",
    "    https://stackoverflow.com/questions/764235/dictionary-to-lowercase-in-python\n",
    "    \"\"\"\n",
    "    for email in corpus:\n",
    "        count += Counter(email)\n",
    "    return dict((k.lower(), v) for k, v in count.items())\n",
    "    \n",
    "def probability_email_containing_word_is_spam(word):\n",
    "    \"\"\"\n",
    "    Adapted from the article\n",
    "    Finds the probability an email is spam if it contains the word\n",
    "    Closer to 1, means more probable to be spam.\n",
    "    \"\"\"\n",
    "    g = 2*good[word] if word in good else 0\n",
    "    b = bad[word] if word in bad else 0\n",
    "    if g + b > THRESHOLD:  # changed to one\n",
    "        return max(0.01, min(0.99, min(1.0, b / nbad) / (min(1.0, g / ngood) + min(1.0, b / nbad))))\n",
    "    else:\n",
    "        return 0\n",
    "\n",
    "def calculate_spam_prob(email):\n",
    "    \"\"\"\n",
    "    Will calculate the probability that an email is spam.\n",
    "    The closer to one, the more probable it is the email is spam.\n",
    "    \"\"\"\n",
    "    prod = 1\n",
    "    complement = 1\n",
    "    for element in email:\n",
    "        prod *= probs[element.lower()]\n",
    "        complement *= (1 - probs[element.lower()])\n",
    "    return prod / (prod + complement)\n",
    "\n",
    "# get word counts\n",
    "bad = count_occurrences(spam_corpus, Counter())\n",
    "good = count_occurrences(ham_corpus, Counter())\n",
    "nbad = len(spam_corpus)\n",
    "ngood = len(ham_corpus)\n",
    "\n",
    "g_keys = list(good.keys())\n",
    "b_keys = list(bad.keys())\n",
    "\n",
    "# combine keys\n",
    "# https://stackoverflow.com/questions/1319338/combining-two-lists-and-removing-duplicates-without-removing-duplicates-in-orig\n",
    "combined_keys = b_keys\n",
    "combined_keys.extend(k for k in g_keys if k not in combined_keys)\n",
    "\n",
    "# create a third hash of probabilities\n",
    "probs = dict()\n",
    "for key in combined_keys:\n",
    "    probs[key] = probability_email_containing_word_is_spam(key)\n",
    "\n",
    "print(probs)\n",
    "\n"
   ],
   "metadata": {
    "collapsed": false,
    "pycharm": {
     "name": "#%%\n"
    }
   }
  },
  {
   "cell_type": "markdown",
   "source": [
    "\n",
    "\n",
    "\n",
    "\n"
   ],
   "metadata": {
    "collapsed": false,
    "pycharm": {
     "name": "#%% md\n"
    }
   }
  },
  {
   "cell_type": "code",
   "source": [
    "print(calculate_spam_prob(ham_corpus[0]))\n",
    "print(calculate_spam_prob(ham_corpus[1]))\n",
    "print(calculate_spam_prob(spam_corpus[0]))\n",
    "print(calculate_spam_prob(spam_corpus[1]))"
   ],
   "metadata": {
    "collapsed": false,
    "pycharm": {
     "name": "#%% \n"
    }
   },
   "execution_count": null,
   "outputs": []
  },
  {
   "cell_type": "markdown",
   "source": [
    "This is Bayesian because it uses a bayesian combination of probabilities."
   ],
   "metadata": {
    "collapsed": false
   }
  },
  {
   "cell_type": "markdown",
   "source": [
    "# Problem 2: Bayesian Network\n",
    "\n"
   ],
   "metadata": {
    "collapsed": false
   }
  },
  {
   "cell_type": "code",
   "execution_count": null,
   "outputs": [],
   "source": [],
   "metadata": {
    "collapsed": false,
    "pycharm": {
     "name": "#%%\n"
    }
   }
  },
  {
   "cell_type": "markdown",
   "source": [
    "\n",
    "Part 2: Join prob = 2^4 = 16\n",
    "bayesian: 9\n",
    "With the Bayesian network structure, we are able to make simplifications due to the assumptions based \n",
    "on how the network is structured.\n"
   ],
   "metadata": {
    "collapsed": false,
    "pycharm": {
     "name": "#%% md\n"
    }
   }
  }
 ],
 "metadata": {
  "kernelspec": {
   "display_name": "${KERNEL_SPEC_DISPLAY_NAME}",
   "language": "${KERNEL_SPEC_LANGUAGE}",
   "name": "${KERNEL_SPEC_NAME}"
  },
  "language_info": {
   "codemirror_mode": {
    "name": "ipython",
    "version": 2
   },
   "file_extension": ".py",
   "mimetype": "text/x-python",
   "name": "python",
   "nbconvert_exporter": "python",
   "pygments_lexer": "ipython2",
   "version": "2.7.6"
  },
  "pycharm": {
   "stem_cell": {
    "cell_type": "raw",
    "source": [],
    "metadata": {
     "collapsed": false
    }
   }
  }
 },
 "nbformat": 4,
 "nbformat_minor": 0
}