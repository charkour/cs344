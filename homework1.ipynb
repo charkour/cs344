{
 "cells": [
  {
   "cell_type": "markdown",
   "metadata": {
    "collapsed": true
   },
   "source": [
    "# Homework 1"
   ]
  },
  {
   "cell_type": "markdown",
   "metadata": {},
   "source": [
    "## 1.1\n",
    "\n",
    "Talk about psychologists and AI for a couple paragraphs.\n",
    "The earliest psychologists studied the human mind using introspection. Would this be a good way for researchers to gain insight into human cognitive processes for the purpose of modelling those processes? (Please give a one-to-two-paragraph answer.)\n",
    "\n",
    "pg. 3. There are three types of way CS people can look at human behavior. One is introspection.\n",
    "pg. 12-13. Introspection is not good. Does not provide reliable evidence.\n",
    "I don't think it would provide good insight. Because....."
   ]
  },
  {
   "cell_type": "markdown",
   "metadata": {},
   "source": [
    "## 1.2\n",
    "\n",
    "Each state in my TSP implementation is a list of cities. \n",
    "The list represents a path. The origin city is at the start of the list, \n",
    "but not at the end of the list; however, the cost to travel from the last city\n",
    "to the origin is calculated in the path length.\n",
    "\n",
    "A possible action is swapping two cities in the current state. The TSPProblem \n",
    "class will make all possible swaps from a current state and evaluate them to \n",
    "find if a swap results in a shorter path than the current state."
   ]
  },
  {
   "cell_type": "code",
   "execution_count": 5,
   "metadata": {
    "pycharm": {
     "is_executing": false
    }
   },
   "outputs": [
    {
     "name": "stdout",
     "text": [
      "Here's the problem formulation.\n",
      "[0, 1, 2, 3, 4]\n",
      "33\n"
     ],
     "output_type": "stream"
    }
   ],
   "source": [
    "from search import Problem\n",
    "\n",
    "class TSPProblem(Problem):\n",
    "    \"\"\"TSPProblem inherits the Problem class.\n",
    "    Expects the number of cities (int), initial state (int[]), and distances\n",
    "    between cities (a dictionary matrix of ints as distances)\n",
    "    This problem tries to find the shortest path between all of the points.\n",
    "    The problem class wants to maximize the value to multiplying the value\n",
    "    by negative one will allow the algorithm to (hopefully) find the optimal (shortest) path.\n",
    "    The problem will return a solution as a list of cities, with the origin city only at the start.\n",
    "    When calculating the path length, the distance from the last city to the origin is calculated.\n",
    "    \"\"\"\n",
    "\n",
    "    def __init__(self, num, initial, dist):\n",
    "        self.n = num\n",
    "        self.initial = initial\n",
    "        self.distances = dist\n",
    "\n",
    "    def actions(self, curr_state):\n",
    "        \"\"\"Find the possible actions by swapping two cities\"\"\"\n",
    "        actions = []\n",
    "        for c1 in range(self.n):\n",
    "            for c2 in range(self.n):\n",
    "                tmp_state = curr_state[:]\n",
    "                if c1 != city2:\n",
    "                    # Swap two cities\n",
    "                    tmp_state[c1], tmp_state[c2] = tmp_state[c2], tmp_state[c1]\n",
    "                    actions.append(tmp_state)\n",
    "        return actions\n",
    "\n",
    "    def result(self, state, action):\n",
    "        \"\"\"Set the new state to the action\"\"\"\n",
    "        new_state = action\n",
    "        return new_state\n",
    "\n",
    "    # No goal state check because we can never know the optimal (shortest) path\n",
    "\n",
    "    def value(self, state):\n",
    "        \"\"\"Get cost of current state. Local search tries to maximize\n",
    "        So by negating the value, the path will be the shortest possible.\n",
    "        \"\"\"\n",
    "        value = 0;\n",
    "        for n in range(0, self.n):\n",
    "            value += self.distances[state[n]][state[(n + 1) % self.n]]\n",
    "        return -1 * value\n",
    "\n"
   ]
  },
  {
   "cell_type": "markdown",
   "metadata": {},
   "source": [
    "A sample city domain is from a TSP Online article that I have hardcoded into \n",
    "dictionaries for testing. Both hill climbing and simulated annealing perform\n",
    "well on the sample city domain and find the shortest path.\n",
    "\n",
    "Code to run with random integers is set to run but can be switched to the\n",
    "sample city domain."
   ]
  },
  {
   "cell_type": "code",
   "execution_count": 6,
   "metadata": {
    "pycharm": {
     "is_executing": false
    }
   },
   "outputs": [
    {
     "name": "stdout",
     "text": [
      "Here's your code to run the TSP problem.\n"
     ],
     "output_type": "stream"
    }
   ],
   "source": [
    "from search import hill_climbing, simulated_annealing, exp_schedule\n",
    "from random import shuffle, randint\n",
    "\n",
    "# create matrix of distances.\n",
    "distances = {}\n",
    "cities = []\n",
    "\n",
    "n = randint(5, 51)\n",
    "\n",
    "# initialize matrix\n",
    "for city in range(0, n):\n",
    "    distances[city] = {}\n",
    "    cities.append(city)\n",
    "\n",
    "# generate random values\n",
    "for city1 in range(0, n):\n",
    "    for city2 in range(0, n):\n",
    "        if city1 != city2:\n",
    "            distances[city1][city2] = distances[city1][city2] = randint(1, 101)\n",
    "        else:\n",
    "            distances[city1][city2] = distances[city1][city2] = 0\n",
    "\n",
    "# referenced: https://stackoverflow.com/questions/976882/shuffling-a-list-of-objects\n",
    "shuffle(cities)\n",
    "\n",
    "# ## SAMPLE DOMAIN\n",
    "# distances = {}\n",
    "# for city in range(0, 5):\n",
    "#     distances[city] = {}\n",
    "# \n",
    "# distances[0][1] = 12\n",
    "# distances[0][2] = 10\n",
    "# distances[0][3] = 19\n",
    "# distances[0][4] = 8\n",
    "# distances[1][2] = 3\n",
    "# distances[1][3] = 7\n",
    "# distances[1][4] = 2\n",
    "# distances[2][3] = 6\n",
    "# distances[2][4] = 20\n",
    "# distances[3][4] = 4\n",
    "# \n",
    "# distances[1][0] = 12\n",
    "# distances[2][0] = 10\n",
    "# distances[3][0] = 19\n",
    "# distances[4][0] = 8\n",
    "# distances[2][1] = 3\n",
    "# distances[3][1] = 7\n",
    "# distances[4][1] = 2\n",
    "# distances[3][2] = 6\n",
    "# distances[4][2] = 20\n",
    "# distances[4][3] = 4\n",
    "# \n",
    "# cities = [0, 1, 2, 3, 4]\n",
    "# shuffle(cities)\n",
    "\n",
    "# Setup program\n",
    "p = TSPProblem(n, cities, distances)\n",
    "\n",
    "print('Initial path: ' + str(cities))\n",
    "print('Initial value: ' + str(p.value(cities)))\n",
    "\n",
    "hill_solution = hill_climbing(p)\n",
    "print('\\nHill-climbing:')\n",
    "print('\\tSolution Path:\\t' + str(hill_solution))\n",
    "print('\\tValue:\\t\\t\\t' + str(p.value(hill_solution)))\n",
    "print('\\tTotal Length:\\t' + str(-1 * p.value(hill_solution)))\n",
    "\n",
    "# adapted from u02local/queens.py\n",
    "annealing_solution = simulated_annealing(p, exp_schedule(k=20, lam=0.005, limit=10000))\n",
    "print('\\nSimulated annealing:')\n",
    "print('\\tSolution Path:\\t' + str(annealing_solution))\n",
    "print('\\tValue:\\t\\t\\t' + str(p.value(annealing_solution)))\n",
    "print('\\tTotal Length:\\t' + str(-1 * p.value(annealing_solution)))"
   ]
  },
  {
   "cell_type": "markdown",
   "metadata": {},
   "source": [
    "The simulated annealing local search algorithm works better than hill climbing overall.\n",
    "There are some instances where HC is able to find a better solution than SA\n",
    "but that is rare. SA works better than HC on the TSP because there are many\n",
    "local maximums that HC would get \"stuck\" on but SA would likely move away from\n",
    "and find the gloabl maximum, or a maximum that is greater than the one HC starts near.\n",
    "SA is able to find a shorter path because it can move and jump to states\n",
    "that have lower value than the current state in hopes of landing near the global\n",
    "maximum. HC is limited to only climbing (or increasing) value to whatever\n",
    "maximum is starts closest to."
   ]
  },
  {
   "cell_type": "markdown",
   "metadata": {},
   "source": [
    "## 1.3\n",
    "\n",
    "I used backtracking because it is the best when there are multiple solutions like with the n-queens problem."
   ]
  },
  {
   "cell_type": "code",
   "execution_count": 7,
   "metadata": {
    "pycharm": {
     "is_executing": false
    }
   },
   "outputs": [
    {
     "name": "stdout",
     "text": [
      "Here's yet more code.\n"
     ],
     "output_type": "stream"
    }
   ],
   "source": [
    "print('Here\\'s yet more code.')"
   ]
  }
 ],
 "metadata": {
  "kernelspec": {
   "display_name": "Python 3",
   "language": "python",
   "name": "python3"
  },
  "language_info": {
   "codemirror_mode": {
    "name": "ipython",
    "version": 3
   },
   "file_extension": ".py",
   "mimetype": "text/x-python",
   "name": "python",
   "nbconvert_exporter": "python",
   "pygments_lexer": "ipython3",
   "version": "3.6.6"
  },
  "pycharm": {
   "stem_cell": {
    "cell_type": "raw",
    "source": [],
    "metadata": {
     "collapsed": false
    }
   }
  }
 },
 "nbformat": 4,
 "nbformat_minor": 1
}