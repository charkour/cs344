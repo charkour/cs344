{
 "cells": [
  {
   "cell_type": "markdown",
   "metadata": {
    "collapsed": true
   },
   "source": [
    "# Homework 1"
   ]
  },
  {
   "cell_type": "markdown",
   "metadata": {},
   "source": [
    "## 1.1\n",
    "\n",
    "Talk about psychologists and AI for a couple paragraphs.\n",
    "The earliest psychologists studied the human mind using introspection. Would this be a good way for researchers to gain insight into human cognitive processes for the purpose of modelling those processes? (Please give a one-to-two-paragraph answer.)\n",
    "\n",
    "pg. 3. There are three types of way CS people can look at human behavior. One is introspection.\n",
    "pg. 12-13. Introspection is not good. Does not provide reliable evidence.\n",
    "I don't think it would provide good insight. Because....."
   ]
  },
  {
   "cell_type": "markdown",
   "metadata": {},
   "source": [
    "## 1.2\n",
    "\n",
    "Describe your TSP problem formulation.\n",
    "\n",
    "Use the AIMA hill climbing and simulated annealing to solve the problem. "
   ]
  },
  {
   "cell_type": "code",
   "execution_count": 5,
   "metadata": {
    "pycharm": {
     "is_executing": false
    }
   },
   "outputs": [
    {
     "name": "stdout",
     "text": [
      "Here's the problem formulation.\n",
      "[0, 1, 2, 3, 4]\n",
      "33\n"
     ],
     "output_type": "stream"
    }
   ],
   "source": [
    "from search import UndirectedGraph, Problem, hill_climbing\n",
    "\n",
    "print('Here\\'s the problem formulation.')\n",
    "\n",
    "# romania_map = UndirectedGraph(dict(\n",
    "#     A=dict(B=10, C=20, D=30),\n",
    "#     B=dict(C=40, D=50),\n",
    "#     C=dict(D=60)\n",
    "# ))\n",
    "   \n",
    "# Create matrix of distances.\n",
    "distances = {}\n",
    "cities = []\n",
    "\n",
    "\n",
    "n = 5\n",
    "for city in range(0,n):\n",
    "    distances[city] = {}\n",
    "    cities.append(city)\n",
    "    \n",
    "distances[0][1] = 12\n",
    "distances[0][2] = 10\n",
    "distances[0][3] = 19\n",
    "distances[0][4] = 8\n",
    "distances[1][2] = 3\n",
    "distances[1][3] = 7\n",
    "distances[1][4] = 2\n",
    "distances[2][3] = 6\n",
    "distances[2][4] = 20\n",
    "distances[3][4] = 4\n",
    "\n",
    "distances[1][0] = 12\n",
    "distances[2][0] = 10\n",
    "distances[3][0] = 19\n",
    "distances[4][0] = 8\n",
    "distances[2][1] = 3\n",
    "distances[3][1] = 7\n",
    "distances[4][1] = 2\n",
    "distances[3][2] = 6\n",
    "distances[4][2] = 20\n",
    "distances[4][3] = 4\n",
    "\n",
    "random_start_state = [0,1,2,3,4]\n",
    "\n",
    "class TSPProblem(Problem):\n",
    "\n",
    "    def __init__(self, num, initial, distances):\n",
    "        self.n = num\n",
    "        self.initial = initial\n",
    "        self.distances = distances\n",
    "        \n",
    "    def actions(self, state):\n",
    "        actions = []\n",
    "        # for city1 in distances:\n",
    "        #     for city2 in distances[city1]:\n",
    "        #         if city1 != city2:\n",
    "        \n",
    "        # Swap two cities.\n",
    "        \n",
    "                    \n",
    "                    \n",
    "        \n",
    "    def result(self, state, action):\n",
    "        \"\"\"\"\"\"\n",
    "        \n",
    "    def path_cost(self, c, state1, action, state2): \n",
    "        \"\"\"\"\"\"\n",
    "    \n",
    "    def value(self, state):\n",
    "        \"\"\"Add up all of the distances\"\"\"\n",
    "        value = 0;\n",
    "        for n in range(0,self.n):\n",
    "            value += self.distances[state[n]][state[(n+1) % self.n]]\n",
    "        return value\n",
    "        \n",
    "p = TSPProblem(n, random_start_state, distances)\n",
    "\n",
    "    \n",
    "print(cities)\n",
    "\n",
    "print(p.value(random_start_state))"
   ]
  },
  {
   "cell_type": "markdown",
   "metadata": {},
   "source": [
    "Describe your sample city-domain and how your code does on it."
   ]
  },
  {
   "cell_type": "code",
   "execution_count": 6,
   "metadata": {
    "pycharm": {
     "is_executing": false
    }
   },
   "outputs": [
    {
     "name": "stdout",
     "text": [
      "Here's your code to run the TSP problem.\n"
     ],
     "output_type": "stream"
    }
   ],
   "source": [
    "print('Here\\'s your code to run the TSP problem.')"
   ]
  },
  {
   "cell_type": "markdown",
   "metadata": {},
   "source": [
    "Make some parting comments on this problem."
   ]
  },
  {
   "cell_type": "markdown",
   "metadata": {},
   "source": [
    "## 1.3\n",
    "\n",
    "Follow the same pattern for this problem."
   ]
  },
  {
   "cell_type": "code",
   "execution_count": 7,
   "metadata": {
    "pycharm": {
     "is_executing": false
    }
   },
   "outputs": [
    {
     "name": "stdout",
     "text": [
      "Here's yet more code.\n"
     ],
     "output_type": "stream"
    }
   ],
   "source": [
    "print('Here\\'s yet more code.')"
   ]
  }
 ],
 "metadata": {
  "kernelspec": {
   "display_name": "Python 3",
   "language": "python",
   "name": "python3"
  },
  "language_info": {
   "codemirror_mode": {
    "name": "ipython",
    "version": 3
   },
   "file_extension": ".py",
   "mimetype": "text/x-python",
   "name": "python",
   "nbconvert_exporter": "python",
   "pygments_lexer": "ipython3",
   "version": "3.6.6"
  },
  "pycharm": {
   "stem_cell": {
    "cell_type": "raw",
    "source": [],
    "metadata": {
     "collapsed": false
    }
   }
  }
 },
 "nbformat": 4,
 "nbformat_minor": 1
}