{
 "cells": [
  {
   "cell_type": "markdown",
   "metadata": {
    "collapsed": true
   },
   "source": [
    "# Homework 1"
   ]
  },
  {
   "cell_type": "markdown",
   "metadata": {},
   "source": [
    "## 1.1\n",
    "\n",
    "One of the four main aspects of AI is the idea of thinking humanly. To model\n",
    "the processes in the mind, one first has to go inside the mind and determine\n",
    "what it means to think humanly. One way of going inside a mind is through introspection,\n",
    "which is the act of a person trying to catch and document every thought as they\n",
    "go by, which proves to be challenging from personal experience.\n",
    "Nevertheless, early AI used introspection to aid in the creation of the GSP, which was an algorithm meant to\n",
    "solve problems using subgoals like humans do when solving problems.\n",
    "A GSP falls under the idea of thinking humanly, and has been proven to be\n",
    "fragile and inefficient at solving problems and often failing.\n",
    "Thus, I believe that introspection would not be a good way for gaining insight\n",
    "on the human cognitive process for modeling. In fact, behaviorism advocate\n",
    "John Watson, \"rejected any theory involving mental processes on the grounds\n",
    "that introspection could not provide reliable evidence\" (AIMA 13)."
   ]
  },
  {
   "cell_type": "markdown",
   "metadata": {},
   "source": [
    "## 1.2\n",
    "\n",
    "Each state in my TSP implementation is a list of cities. \n",
    "The list represents a path. The origin city is at the start of the list, \n",
    "but not at the end of the list; however, the cost to travel from the last city\n",
    "to the origin is calculated in the path length.\n",
    "\n",
    "A possible action is swapping two cities in the current state. The TSPProblem \n",
    "class will make all possible swaps from a current state and evaluate them to \n",
    "find if a swap results in a shorter path than the current state."
   ]
  },
  {
   "cell_type": "code",
   "execution_count": 1,
   "metadata": {
    "pycharm": {
     "is_executing": false
    }
   },
   "outputs": [],
   "source": [
    "from search import Problem\n",
    "\n",
    "class TSPProblem(Problem):\n",
    "    \"\"\"TSPProblem inherits the Problem class.\n",
    "    Expects the number of cities (int), initial state (int[]), and distances\n",
    "    between cities (a dictionary matrix of ints as distances)\n",
    "    This problem tries to find the shortest path between all of the points.\n",
    "    The problem class wants to maximize the value to multiplying the value\n",
    "    by negative one will allow the algorithm to (hopefully) find the optimal (shortest) path.\n",
    "    The problem will return a solution as a list of cities, with the origin city only at the start.\n",
    "    When calculating the path length, the distance from the last city to the origin is calculated.\n",
    "    \"\"\"\n",
    "\n",
    "    def __init__(self, num, initial, dist):\n",
    "        self.n = num\n",
    "        self.initial = initial\n",
    "        self.distances = dist\n",
    "\n",
    "    def actions(self, curr_state):\n",
    "        \"\"\"Find the possible actions by swapping two cities\"\"\"\n",
    "        actions = []\n",
    "        for c1 in range(self.n):\n",
    "            for c2 in range(self.n):\n",
    "                tmp_state = curr_state[:]\n",
    "                if c1 != city2:\n",
    "                    # Swap two cities\n",
    "                    tmp_state[c1], tmp_state[c2] = tmp_state[c2], tmp_state[c1]\n",
    "                    actions.append(tmp_state)\n",
    "        return actions\n",
    "\n",
    "    def result(self, state, action):\n",
    "        \"\"\"Set the new state to the action\"\"\"\n",
    "        new_state = action\n",
    "        return new_state\n",
    "\n",
    "    # No goal state check because we can never know the optimal (shortest) path\n",
    "\n",
    "    def value(self, state):\n",
    "        \"\"\"Get cost of current state. Local search tries to maximize\n",
    "        So by negating the value, the path will be the shortest possible.\n",
    "        \"\"\"\n",
    "        value = 0;\n",
    "        for n in range(0, self.n):\n",
    "            value += self.distances[state[n]][state[(n + 1) % self.n]]\n",
    "        return -1 * value\n",
    "\n"
   ]
  },
  {
   "cell_type": "markdown",
   "metadata": {},
   "source": [
    "A sample city domain is from a TSP Online article that I have hardcoded into \n",
    "dictionaries for testing. Both hill climbing and simulated annealing perform\n",
    "well on the sample city domain and find the shortest path.\n",
    "\n",
    "Code to run with random integers is set to run but can be switched to the\n",
    "sample city domain."
   ]
  },
  {
   "cell_type": "code",
   "execution_count": 4,
   "metadata": {
    "pycharm": {
     "is_executing": false
    }
   },
   "outputs": [
    {
     "name": "stdout",
     "text": [
      "Initial path: [7, 6, 3, 0, 5, 1, 4, 2, 8]\n",
      "Initial value: -504\n",
      "\n",
      "Hill-climbing:\n",
      "\tSolution Path:\t[7, 8, 3, 0, 1, 5, 4, 2, 6]\n",
      "\tValue:\t\t\t-194\n",
      "\tTotal Length:\t194\n",
      "\n",
      "Simulated annealing:\n",
      "\tSolution Path:\t[7, 8, 3, 1, 5, 4, 0, 2, 6]\n",
      "\tValue:\t\t\t-128\n",
      "\tTotal Length:\t128\n"
     ],
     "output_type": "stream"
    }
   ],
   "source": [
    "from search import hill_climbing, simulated_annealing, exp_schedule\n",
    "from random import shuffle, randint\n",
    "\n",
    "# create matrix of distances.\n",
    "distances = {}\n",
    "cities = []\n",
    "\n",
    "n = randint(5, 51)\n",
    "\n",
    "# initialize matrix\n",
    "for city in range(0, n):\n",
    "    distances[city] = {}\n",
    "    cities.append(city)\n",
    "\n",
    "# generate random values\n",
    "for city1 in range(0, n):\n",
    "    for city2 in range(0, n):\n",
    "        if city1 != city2:\n",
    "            distances[city1][city2] = distances[city1][city2] = randint(1, 101)\n",
    "        else:\n",
    "            distances[city1][city2] = distances[city1][city2] = 0\n",
    "\n",
    "# referenced: https://stackoverflow.com/questions/976882/shuffling-a-list-of-objects\n",
    "shuffle(cities)\n",
    "\n",
    "# ## SAMPLE DOMAIN\n",
    "# n = 5\n",
    "# distances = {}\n",
    "# for city in range(0, 5):\n",
    "#     distances[city] = {}\n",
    "# \n",
    "# distances[0][1] = 12\n",
    "# distances[0][2] = 10\n",
    "# distances[0][3] = 19\n",
    "# distances[0][4] = 8\n",
    "# distances[1][2] = 3\n",
    "# distances[1][3] = 7\n",
    "# distances[1][4] = 2\n",
    "# distances[2][3] = 6\n",
    "# distances[2][4] = 20\n",
    "# distances[3][4] = 4\n",
    "# \n",
    "# distances[1][0] = 12\n",
    "# distances[2][0] = 10\n",
    "# distances[3][0] = 19\n",
    "# distances[4][0] = 8\n",
    "# distances[2][1] = 3\n",
    "# distances[3][1] = 7\n",
    "# distances[4][1] = 2\n",
    "# distances[3][2] = 6\n",
    "# distances[4][2] = 20\n",
    "# distances[4][3] = 4\n",
    "# \n",
    "# cities = [0, 1, 2, 3, 4]\n",
    "# shuffle(cities)\n",
    "\n",
    "# Setup program\n",
    "p = TSPProblem(n, cities, distances)\n",
    "\n",
    "print('Initial path: ' + str(cities))\n",
    "print('Initial value: ' + str(p.value(cities)))\n",
    "\n",
    "hill_solution = hill_climbing(p)\n",
    "print('\\nHill-climbing:')\n",
    "print('\\tSolution Path:\\t' + str(hill_solution))\n",
    "print('\\tValue:\\t\\t\\t' + str(p.value(hill_solution)))\n",
    "print('\\tTotal Length:\\t' + str(-1 * p.value(hill_solution)))\n",
    "\n",
    "# adapted from u02local/queens.py\n",
    "annealing_solution = simulated_annealing(p, exp_schedule(k=20, lam=0.005, limit=10000))\n",
    "print('\\nSimulated annealing:')\n",
    "print('\\tSolution Path:\\t' + str(annealing_solution))\n",
    "print('\\tValue:\\t\\t\\t' + str(p.value(annealing_solution)))\n",
    "print('\\tTotal Length:\\t' + str(-1 * p.value(annealing_solution)))"
   ]
  },
  {
   "cell_type": "markdown",
   "metadata": {},
   "source": [
    "The simulated annealing local search algorithm works better than hill climbing overall.\n",
    "There are some instances where HC is able to find a better solution than SA\n",
    "but that is rare. SA works better than HC on the TSP because there are many\n",
    "local maximums that HC would get \"stuck\" on but SA would likely move away from\n",
    "and find the global maximum, or a maximum that is greater than the one HC starts near.\n",
    "SA is able to find a shorter path because it can move and jump to states\n",
    "that have lower value than the current state in hopes of landing near the global\n",
    "maximum. HC is limited to only climbing (or increasing) value to whatever\n",
    "maximum is starts closest to."
   ]
  },
  {
   "cell_type": "markdown",
   "metadata": {},
   "source": [
    "## 1.3\n",
    "\n",
    "The variables of the constraint problem are each of the CS classes.\n",
    "Each class has neighbors of every other class, meaning the constraints will\n",
    "be checked with every other class. Each class can take on a thruple of values\n",
    "(time, room, faculty).\n",
    "The domain of the scheduling problem is each class with each combination of \n",
    "attributes making up the possible values. Unlike local search problems,\n",
    "with constraint satisfaction, each state is a factored representation with \n",
    "variables taking on attributes from their domains."
   ]
  },
  {
   "cell_type": "code",
   "execution_count": 5,
   "metadata": {
    "pycharm": {
     "is_executing": false
    }
   },
   "outputs": [],
   "source": [
    "from csp import backtracking_search, CSP\n",
    "import itertools\n",
    "\n",
    "# create list of variables,\n",
    "classes = [\"cs108\", \"cs112\", \"cs212\", \"cs214\", \"cs262\", \"cs232\"]\n",
    "\n",
    "# each variable and their neighbors\n",
    "neighbors = {\n",
    "    \"cs108\": [\"cs112\", \"cs212\", \"cs214\", \"cs262\", \"cs232\"],\n",
    "    \"cs112\": [\"cs108\", \"cs212\", \"cs214\", \"cs262\", \"cs232\"],\n",
    "    \"cs212\": [\"cs108\", \"cs112\", \"cs214\", \"cs262\", \"cs232\"],\n",
    "    \"cs214\": [\"cs108\", \"cs112\", \"cs212\", \"cs262\", \"cs232\"],\n",
    "    \"cs262\": [\"cs108\", \"cs112\", \"cs212\", \"cs214\", \"cs232\"],\n",
    "    \"cs232\": [\"cs108\", \"cs112\", \"cs212\", \"cs214\", \"cs262\"]\n",
    "}\n",
    "\n",
    "attributes = {\n",
    "    \"faculty\": [\"schuurman\", \"adams\", \"vanderlinden\", \"norman\"],\n",
    "    \"time\": [\"mwf900\", \"mwf1030\", \"mwf1130\", \"tth1030\"],\n",
    "    \"room\": [\"nh253\", \"sb382\"]\n",
    "}\n",
    "\n",
    "# referenced for itertools: https://stackoverflow.com/questions/798854/all-combinations-of-a-list-of-lists\n",
    "attribute_list = [attributes[\"time\"], attributes[\"room\"], attributes[\"faculty\"]]\n",
    "possible_values = list(itertools.product(*attribute_list))\n",
    "\n",
    "# referenced for function mapping: https://www.geeksforgeeks.org/python-map-function/\n",
    "domains = dict(map(lambda aClass: (aClass, possible_values[:]), classes))\n",
    "\n",
    "\n",
    "def constraints(Class1, c1, Class2, c2):\n",
    "    \"\"\"Constraints for class scheduling\n",
    "    c1 and c2 are tuples in the form (time, room, faculty)\n",
    "    returns true if constraints are met.\n",
    "    The constraint that there is only one section of class\n",
    "    is implicit because classes are variables.\n",
    "    \"\"\"\n",
    "    # Return true if same class.\n",
    "    if Class1 == Class2:\n",
    "        return True\n",
    "\n",
    "    # check to make sure faculty is not teaching at the same time\n",
    "    if c1[0] == c2[0] and c1[2] == c2[2]:\n",
    "        return False\n",
    "\n",
    "    # Check to make sure class is not in the same room at the same time\n",
    "    if c1[0] == c2[0] and c1[1] == c2[1]:\n",
    "        return False\n",
    "    return True"
   ]
  },
  {
   "cell_type": "markdown",
   "source": [
    "All that is needed are the classes (variables), domains, neighbors, and constraints.\n",
    "We can use the CSP class directly because no methods need to be overwritten."
   ],
   "metadata": {
    "collapsed": false
   }
  },
  {
   "cell_type": "code",
   "execution_count": 6,
   "outputs": [
    {
     "name": "stdout",
     "text": [
      "Solution:\n",
      "{'cs108': ('mwf900', 'nh253', 'schuurman'), 'cs112': ('mwf900', 'sb382', 'adams'), 'cs212': ('mwf1030', 'nh253', 'schuurman'), 'cs214': ('mwf1030', 'sb382', 'adams'), 'cs262': ('mwf1130', 'nh253', 'schuurman'), 'cs232': ('mwf1130', 'sb382', 'adams')}\n"
     ],
     "output_type": "stream"
    }
   ],
   "source": [
    "# Setup problem\n",
    "problem = CSP(classes, domains, neighbors, constraints)\n",
    "\n",
    "solution = backtracking_search(problem)\n",
    "\n",
    "# Adapted from u03constraint/queens.py\n",
    "if solution is not None and problem.goal_test(solution):\n",
    "    print('Solution:')\n",
    "    print(solution)\n",
    "else:\n",
    "    print('Failed - domains: ' + str(problem.curr_domains))\n",
    "    problem.display(problem.infer_assignment())\n"
   ],
   "metadata": {
    "collapsed": false,
    "pycharm": {
     "name": "#%%\n",
     "is_executing": false
    }
   }
  },
  {
   "cell_type": "markdown",
   "source": [
    "I used backtracking because it is the best when there are multiple solutions to the constraint satisfaction, \n",
    "like with the n-queens problem. If backtracking gets stuck going down a path, it is able to back track and find a solution.\n",
    "I noticed that backtracking will start with the first value in the thruple, and complete all combinations with\n",
    "it before moving onto the next time value.\n",
    "\n"
   ],
   "metadata": {
    "collapsed": false
   }
  }
 ],
 "metadata": {
  "kernelspec": {
   "display_name": "Python 3",
   "language": "python",
   "name": "python3"
  },
  "language_info": {
   "codemirror_mode": {
    "name": "ipython",
    "version": 3
   },
   "file_extension": ".py",
   "mimetype": "text/x-python",
   "name": "python",
   "nbconvert_exporter": "python",
   "pygments_lexer": "ipython3",
   "version": "3.6.6"
  },
  "pycharm": {
   "stem_cell": {
    "cell_type": "raw",
    "source": [],
    "metadata": {
     "collapsed": false
    }
   }
  }
 },
 "nbformat": 4,
 "nbformat_minor": 1
}