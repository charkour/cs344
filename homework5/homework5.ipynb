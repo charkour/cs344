{
 "cells": [
  {
   "cell_type": "markdown",
   "source": [
    "## Exercise 1 - Unicorn\n",
    "\n",
    "![image](./7.2.pdf)\n",
    "\n",
    "Can use resolution to prove that the unicorn is horned and magical\n",
    "but cannot prove that the unicorn is mythical.\n",
    "\n",
    "This is difficult to implement in prolog because you have to\n",
    "do some manipulating of `-Mythical --> -Immortal ^ Mammal` to be\n",
    "a Horn clause in prolog. Also, there is no starting fact\n",
    "given that the rules are built off of to figure out if the unicorn\n",
    "is mythical, horned, or magical (ie. there is no fact `isMythical(unicorn)` given).\n"
   ],
   "metadata": {
    "collapsed": false
   }
  },
  {
   "cell_type": "markdown",
   "source": [
    "## Exercise 2 - Prolog\n",
    "\n",
    "See [crossword.pl](./crossword.pl) for the implementation.\n",
    "\n",
    "```\n",
    "  word(astante,  a,s,t,a,n,t,e).\n",
    "  word(astoria,  a,s,t,o,r,i,a).\n",
    "  word(baratto,  b,a,r,a,t,t,o).\n",
    "  word(cobalto,  c,o,b,a,l,t,o).\n",
    "  word(pistola,  p,i,s,t,o,l,a).\n",
    "  word(statale,  s,t,a,t,a,l,e).\n",
    "\n",
    "crossword(V1,V2,V3,H1,H2,H3) :-\n",
    "  word(V1,_,V1H1,_,V1H2,_,V1H3,_),\n",
    "  word(V2,_,V2H1,_,V2H2,_,V2H3,_),\n",
    "  word(V3,_,V3H1,_,V3H2,_,V3H3,_),\n",
    "  word(H1,_,V1H1,_,V2H1,_,V3H1,_),\n",
    "  word(H2,_,V1H2,_,V2H2,_,V3H2,_),\n",
    "  word(H3,_,V1H3,_,V2H3,_,V3H3,_).\n",
    "```\n",
    "\n",
    "Asking `?- crossword(V1,V2,V3,H1,H2,H3).` will result in:\n",
    "```\n",
    "V1 = H1, H1 = astante,\n",
    "V2 = H2, H2 = baratto,\n",
    "V3 = H3, H3 = statale ;\n",
    "V1 = astante,\n",
    "V2 = cobalto,\n",
    "V3 = pistola,\n",
    "H1 = astoria,\n",
    "H2 = baratto,\n",
    "H3 = statale ;\n",
    "V1 = astoria,\n",
    "V2 = baratto,\n",
    "V3 = statale,\n",
    "H1 = astante,\n",
    "H2 = cobalto,\n",
    "H3 = pistola ;\n",
    "V1 = H1, H1 = astoria,\n",
    "V2 = H2, H2 = cobalto,\n",
    "V3 = H3, H3 = pistola ;\n",
    "V1 = V2, V2 = H1, H1 = H2, H2 = baratto,\n",
    "V3 = H3, H3 = statale ;\n",
    "V1 = H1, H1 = cobalto,\n",
    "V2 = H2, H2 = baratto,\n",
    "V3 = H3, H3 = statale ;\n",
    "false.\n",
    "```\n"
   ],
   "metadata": {
    "collapsed": false,
    "pycharm": {
     "name": "#%% md\n"
    }
   }
  }
 ],
 "metadata": {
  "kernelspec": {
   "display_name": "${KERNEL_SPEC_DISPLAY_NAME}",
   "language": "${KERNEL_SPEC_LANGUAGE}",
   "name": "${KERNEL_SPEC_NAME}"
  },
  "language_info": {
   "codemirror_mode": {
    "name": "ipython",
    "version": 2
   },
   "file_extension": ".py",
   "mimetype": "text/x-python",
   "name": "python",
   "nbconvert_exporter": "python",
   "pygments_lexer": "ipython2",
   "version": "2.7.6"
  }
 },
 "nbformat": 4,
 "nbformat_minor": 0
}