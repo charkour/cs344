{
 "cells": [
  {
   "cell_type": "markdown",
   "metadata": {},
   "source": [
    "# Deep Q-Network Route Finder\n",
    "\n",
    "Here in this jupyter notebook, we will have some fun with using reinforcement learning to find safe routes across the ice.\n",
    "This notebook draws a lot of inspiration from Open AI's [FrozenLake](https://gym.openai.com/envs/FrozenLake8x8-v0/) gym environment.\n",
    "Really, how nice of them to have a well crafted toy problem already thought out for us!\n",
    "\n",
    "Specifically and technically, we will train a Deep Q-Network in Keras/Tensorflow to help us decide safe routes across slippery ice!\n",
    "Later, we will move on to applying this safe navigation tool to our crevasse avoidance problem.\n",
    "\n",
    "References:\n",
    "- Open AI [gym](https://github.com/openai/gym) \n",
    "- [Simple Reinforcement Learning with Tensorflow Part 0: Q-Learning with Tables and Neural Networks](https://medium.com/emergent-future/simple-reinforcement-learning-with-tensorflow-part-0-q-learning-with-tables-and-neural-networks-d195264329d0)\n",
    "- [Simple Reinforcement Learning with Tensorflow Part 4: Deep Q-Networks and Beyond](https://medium.com/@awjuliani/simple-reinforcement-learning-with-tensorflow-part-4-deep-q-networks-and-beyond-8438a3e2b8df)\n",
    "- [Frozen Lake github gist using Keras](https://gist.github.com/ceshine/eeb97564c21a77b8c315179f82b3fc08)"
   ]
  },
  {
   "cell_type": "code",
   "execution_count": 1,
   "metadata": {},
   "outputs": [
    {
     "name": "stderr",
     "output_type": "stream",
     "text": [
      "Using TensorFlow backend.\n"
     ]
    },
    {
     "name": "stdout",
     "output_type": "stream",
     "text": [
      "Python       : 3.6.1 (v3.6.1:69c0db5050, Mar 21 2017, 01:21:04) \n",
      "Numpy        : 1.18.1\n",
      "Keras        : 2.3.1\n",
      "Tensorflow   : 1.14.0\n"
     ]
    },
    {
     "data": {
      "text/plain": "''"
     },
     "execution_count": 1,
     "metadata": {},
     "output_type": "execute_result"
    }
   ],
   "source": [
    "# Import all the necessary libraries\n",
    "import os\n",
    "import sys\n",
    "import warnings\n",
    "os.environ[\"CUDA_DEVICE_ORDER\"] = \"PCI_BUS_ID\"   # see issue #152\n",
    "os.environ[\"CUDA_VISIBLE_DEVICES\"] = \"0\"  #set to see only the first gpu\n",
    "os.environ['KERAS_BACKEND'] = 'tensorflow'\n",
    "warnings.simplefilter(action = \"ignore\", category = FutureWarning)\n",
    "\n",
    "#import gym\n",
    "import matplotlib.pyplot as plt\n",
    "import numpy as np\n",
    "import random\n",
    "%matplotlib inline\n",
    "\n",
    "import keras\n",
    "import tensorflow as tf\n",
    "\n",
    "print('Python       :', sys.version.split('\\n')[0])\n",
    "print('Numpy        :', np.__version__)\n",
    "print('Keras        :', keras.__version__)\n",
    "print('Tensorflow   :', tf.__version__)\n",
    "tf.test.gpu_device_name()"
   ]
  },
  {
   "cell_type": "markdown",
   "metadata": {},
   "source": [
    "## Design Keras Model to fit into Q-Network"
   ]
  },
  {
   "cell_type": "code",
   "execution_count": 2,
   "metadata": {},
   "outputs": [],
   "source": [
    "# Set seed values\n",
    "seed = 42\n",
    "random.seed = seed\n",
    "np.random.seed(seed=seed)\n",
    "tf.set_random_seed(seed=seed)"
   ]
  },
  {
   "cell_type": "code",
   "execution_count": 3,
   "metadata": {},
   "outputs": [],
   "source": [
    "from keras import backend as K\n",
    "from keras.models import Sequential, Model\n",
    "from keras.layers import Conv2D, Flatten, Dense, Input, SeparableConv2D\n",
    "from keras.layers.core import Activation, Flatten, Dropout, Reshape\n",
    "#from rl.agents.dqn import DQNAgent\n",
    "#from rl.policy import EpsGreedyQPolicy\n",
    "#from rl.memory import SequentialMemory"
   ]
  },
  {
   "cell_type": "code",
   "execution_count": 4,
   "metadata": {},
   "outputs": [],
   "source": [
    "def keras_convnet(input_shape=(4,4,2)):\n",
    "    \"\"\"\n",
    "    The Keras Convolutional Network that parses the incoming pixel data.\n",
    "    Consists of 3 Convolutional Layers, and 2 Dense Layers, plus 1 softmax output layer\n",
    "    Note that we use SeparableConv2D layers ala MobileNets for memory efficiency\n",
    "    \n",
    "    Inputs:\n",
    "    input_shape -- shape of the input tensor, (height, width, channels)\n",
    "    \n",
    "    Outputs:\n",
    "    model -- keras.models.Model instance\n",
    "    \n",
    "    \"\"\"\n",
    "    inp = Input(shape=input_shape)\n",
    "    \n",
    "    X = SeparableConv2D(filters=32, kernel_size=(4,4), strides=(1,1), padding='same', activation='relu', use_bias=False)(inp)\n",
    "    X = SeparableConv2D(filters=64, kernel_size=(3,3), strides=(1,1), padding='same', activation='relu', use_bias=False)(X)\n",
    "    X = SeparableConv2D(filters=64, kernel_size=(2,2), strides=(1,1), padding='same', activation='relu', use_bias=False)(X)\n",
    "    X = Flatten()(X)\n",
    "    X = Dense(units=256, activation='relu', use_bias=False)(X)\n",
    "    X = Dense(units=4, activation='softmax')(X)\n",
    "    \n",
    "    model = Model(inputs=inp, outputs=X) \n",
    "    \n",
    "    return model"
   ]
  },
  {
   "cell_type": "markdown",
   "metadata": {},
   "source": [
    "### Initialize Deep Q-Network parameters"
   ]
  },
  {
   "cell_type": "code",
   "execution_count": 5,
   "metadata": {},
   "outputs": [
    {
     "name": "stdout",
     "output_type": "stream",
     "text": [
      "Model: \"model_1\"\n",
      "_________________________________________________________________\n",
      "Layer (type)                 Output Shape              Param #   \n",
      "=================================================================\n",
      "input_1 (InputLayer)         (None, 4, 4, 2)           0         \n",
      "_________________________________________________________________\n",
      "separable_conv2d_1 (Separabl (None, 4, 4, 32)          96        \n",
      "_________________________________________________________________\n",
      "separable_conv2d_2 (Separabl (None, 4, 4, 64)          2336      \n",
      "_________________________________________________________________\n",
      "separable_conv2d_3 (Separabl (None, 4, 4, 64)          4352      \n",
      "_________________________________________________________________\n",
      "flatten_1 (Flatten)          (None, 1024)              0         \n",
      "_________________________________________________________________\n",
      "dense_1 (Dense)              (None, 256)               262144    \n",
      "_________________________________________________________________\n",
      "dense_2 (Dense)              (None, 4)                 1028      \n",
      "=================================================================\n",
      "Total params: 269,956\n",
      "Trainable params: 269,956\n",
      "Non-trainable params: 0\n",
      "_________________________________________________________________\n",
      "None\n"
     ]
    }
   ],
   "source": [
    "# DQN model parameters\n",
    "model = keras_convnet()\n",
    "print(model.summary())\n",
    "#policy = EpsGreedyQPolicy(eps=0.1)\n",
    "#nb_actions = env.action_space.n\n",
    "#memory = SequentialMemory(limit=10000, window_length=4)\n",
    "\n",
    "# DQN runtime parameters\n",
    "def sum_squared_loss(yTrue, yPred):\n",
    "    return K.sum(K.square(yTrue - yPred))\n",
    "loss = sum_squared_loss\n",
    "optimizer = keras.optimizers.Adam(lr=0.001)\n",
    "\n",
    "# Compile keras model\n",
    "model.compile(loss=loss, optimizer=optimizer)"
   ]
  },
  {
   "cell_type": "markdown",
   "metadata": {},
   "source": [
    "# Pure numpy implementation of Open AI Frozen Lake, plus a Keras Deep Q-network"
   ]
  },
  {
   "cell_type": "markdown",
   "metadata": {},
   "source": [
    "### Helper function to convert integer to a 2D grid location"
   ]
  },
  {
   "cell_type": "code",
   "execution_count": 6,
   "metadata": {},
   "outputs": [
    {
     "data": {
      "text/plain": "array([[0., 0., 0., 0.],\n       [0., 1., 0., 0.],\n       [0., 0., 0., 0.],\n       [0., 0., 0., 0.]])"
     },
     "execution_count": 6,
     "metadata": {},
     "output_type": "execute_result"
    }
   ],
   "source": [
    "def int_to_grid(integer, grid_shape=(4,4)):\n",
    "    \"\"\"\n",
    "    Function to map an integer to it's 2D grid location\n",
    "    \n",
    "    E.g. to place the integer 5 in a 4x4 (height*width) grid\n",
    "    \n",
    "            0000\n",
    "    5   ->  0100\n",
    "            0000\n",
    "            0000\n",
    "            \n",
    "    Steps:\n",
    "    1) np.prod(grid_shape) i.e. 4*4=16\n",
    "    2) np.identity(16)[integer:integer+1] i.e. output something like [0,0,0,0,0,1,0,0,0,0,0,0,0,0,0,0,0]\n",
    "    3) np.reshape(grid_shape) i.e. output the grid form of the above\n",
    "    \"\"\"\n",
    "    return np.identity(np.prod(grid_shape))[integer:integer+1].reshape(grid_shape)\n",
    "int_to_grid(5)"
   ]
  },
  {
   "cell_type": "markdown",
   "metadata": {},
   "source": [
    "### The player step left, down, right, up dynamics"
   ]
  },
  {
   "cell_type": "code",
   "execution_count": 7,
   "metadata": {},
   "outputs": [],
   "source": [
    "def player_step(old_position:np.array, action:int):\n",
    "    \"\"\"\n",
    "    Take a step somewhere, unless you'll go through the wall!\n",
    "    \n",
    "    Inputs:\n",
    "    old_position -- a (height, width) shaped numpy array of 0s with a 1 marking the player position\n",
    "    action -- an integer from 0 to 3 representing either Left, Down, Right, Up\n",
    "    \n",
    "    Outputs:\n",
    "    new_position -- a (height, width) shaped numpy array of 0s with a 1 marking the player position\n",
    "    \n",
    "    Example taking a step Right:\n",
    "    \n",
    "           old_position                        new_position  \n",
    "    array([[0., 0., 0., 0.],            array([[0., 0., 0., 0.],\n",
    "           [0., 1., 0., 0.],    ----\\          [0., 0., 1., 0.],\n",
    "           [0., 0., 0., 0.],    ----/          [0., 0., 0., 0.],\n",
    "           [0., 0., 0., 0.]])                  [0., 0., 0., 0.]])\n",
    "    \"\"\"\n",
    "    actionKeys = {0:\"Left <-\", 1:\"Down v\", 2:\"Right ->\", 3:\"Up ^\"}\n",
    "    position = np.argmax(old_position)\n",
    "    \n",
    "    assert(len(old_position.shape) == 2)  #numpy array shape must be (height, width) i.e. 2 dimensional\n",
    "    \n",
    "    if actionKeys[action] == 'Left <-':\n",
    "        #print('Going Left')\n",
    "        #move left unless you are at the left wall\n",
    "        new_pos = position - 1 if (position)%map_grid.shape[1] != 0 else position\n",
    "    \n",
    "    if actionKeys[action] == 'Down v':\n",
    "        #print('Going Down')\n",
    "        #move down unless you are at the bottom wall\n",
    "        new_pos = position + map_grid.shape[0] if position + map_grid.shape[0] < np.prod(map_grid.shape) else position\n",
    "    \n",
    "    if actionKeys[action] == 'Right ->':\n",
    "        #print('Going Right')\n",
    "        #move right unless you are at the right wall\n",
    "        new_pos = position + 1 if (position+1)%map_grid.shape[1] != 0 else position\n",
    "\n",
    "    if actionKeys[action] == 'Up ^':\n",
    "        #print('Going Up')\n",
    "        #move up unless you are at the upper wall\n",
    "        new_pos = position - map_grid.shape[0] if position - map_grid.shape[0] > 0 else position\n",
    "    \n",
    "    assert(new_pos in range(np.prod(map_grid.shape)))  #final check to see that we are within the grid range\n",
    "    new_position = int_to_grid(new_pos)                #change our \n",
    "    \n",
    "    return new_position"
   ]
  },
  {
   "cell_type": "markdown",
   "metadata": {},
   "source": [
    "### Initialize some variables and train the Deep Q-Network!"
   ]
  },
  {
   "cell_type": "code",
   "execution_count": 8,
   "metadata": {},
   "outputs": [],
   "source": [
    "# Environment variables, replicated from https://gym.openai.com/envs/FrozenLake-v0/\n",
    "actionKeys = {0:\"Left <-\", 1:\"Down v\", 2:\"Right ->\", 3:\"Up ^\"}\n",
    "'''\n",
    "SFFF       (S: starting point, safe)\n",
    "FHFH       (F: frozen surface, safe)\n",
    "FFFH       (H: hole, fall to your doom)\n",
    "HFFG       (G: goal, where the frisbee is located)\n",
    "'''\n",
    "map_grid = np.array([[0.0, 0.0, 0.0, 0.0],\n",
    "                     [0.0, 5.0, 0.0, 5.0],\n",
    "                     [0.0, 0.0, 0.0, 5.0],\n",
    "                     [5.0, 0.0, 0.0, -5.]], dtype=np.float)  #note that our map is inverse coded so -ve values are good and +ve values are bad!\n",
    "\n",
    "\n",
    "#Hyperparameters\n",
    "epsilon = 0.75       #Exploration setting between 0 and 1, where 0 is don't explore and 1 is explore please!\n",
    "gamma = 0.99         #Future discount factor between 0 and 1, where 0 means care only about now, and 1 means I care alot about the future!\n",
    "\n",
    "#Session parameters\n",
    "num_episodes = 2000\n",
    "rewardList = []"
   ]
  },
  {
   "cell_type": "code",
   "execution_count": 9,
   "metadata": {},
   "outputs": [
    {
     "name": "stdout",
     "output_type": "stream",
     "text": [
      "Begin training Deep Q-Network!!\n",
      "WARNING:tensorflow:From /Users/charleskornoelje/Documents/LocalDevelopment/PythonvEnv/344v3.6/lib/python3.6/site-packages/keras/backend/tensorflow_backend.py:422: The name tf.global_variables is deprecated. Please use tf.compat.v1.global_variables instead.\n",
      "\n",
      "Step: 0 to 500, with epsilon: -0.7300000000000008\n",
      "Step: 500 to 1000, with epsilon: -10.72999999999986\n",
      "Step: 1000 to 1500, with epsilon: -20.72999999999965\n",
      "Percent of succesful episodes: 0.7865%\n"
     ]
    },
    {
     "data": {
      "text/plain": "<Figure size 432x288 with 1 Axes>",
      "image/png": "[encoded data removed]"
     },
     "metadata": {
      "needs_background": "light"
     },
     "output_type": "display_data"
    },
    {
     "data": {
      "text/plain": "<Figure size 432x288 with 1 Axes>",
      "image/png": "[encoded data removed]"
     },
     "metadata": {
      "needs_background": "light"
     },
     "output_type": "display_data"
    },
    {
     "data": {
      "text/plain": "<Figure size 432x288 with 1 Axes>",
      "image/png": "[encoded data removed]"
     },
     "metadata": {
      "needs_background": "light"
     },
     "output_type": "display_data"
    },
    {
     "data": {
      "text/plain": "<Figure size 432x288 with 1 Axes>",
      "image/png": "[encoded data removed]"
     },
     "metadata": {
      "needs_background": "light"
     },
     "output_type": "display_data"
    }
   ],
   "source": [
    "print(\"Begin training Deep Q-Network!!\")\n",
    "for i in range(num_episodes):\n",
    "#for i in range(1):  #use if you only want to see one episode!\n",
    "    player_position = int_to_grid(0)   #we start the player at the topleft corner of our map_grid\n",
    "    current_state = np.stack([np.stack([player_position, map_grid], axis=-1)])  #stack the player_position array and map_grid array channel/depth-wise\n",
    "    assert(current_state.shape == (1,4,4,2))                                    #check that our input current_state has shape (batch_size, rows, cols, channels)\n",
    "    rewardTally = 0  #start reward Score at 0\n",
    "    j = 0            #counter in case our agent does too many stupid moves\n",
    "    while j < 32:    #limit the number of moves our agent can take to 32\n",
    "        j += 1\n",
    "        \n",
    "        #########################################################################\n",
    "        #Our Deep Q-Network takes an input state (x) of the environment and\n",
    "        #predicts an output list of Q-values (y) representing the 'q'uality of\n",
    "        #the actions we can take the move the player around the map grid        \n",
    "        \n",
    "        #########################################################################\n",
    "        ## Feed current state into Deep Q-Network\n",
    "        current_state_Q_values = model.predict(x=current_state, batch_size=1)    #Use our neural network to get the Q values for each possible move given the current player position and map_grid\n",
    "        #print(current_state_Q_values)                                           #outputs the Q values for our possible moves left, down, right, up as an array e.g. [[0.23, 0.22, 0.24, 0.26]]\n",
    "        \n",
    "        ## Decide what action to perform based on current_state_Q_values, and randomize with epsilon\n",
    "        action = np.argmax(current_state_Q_values)                               #find the maximum/greatest Q value to decide what action to take\n",
    "        if np.random.rand(1) < epsilon:                                          #if some random number is less than our epsilon value\n",
    "            action = int(np.random.uniform(low=0, high=4))                       #we get a new action randomly from a uniform distribution!\n",
    "        #print(actionKeys[action])\n",
    "        \n",
    "        ## Take a step towards somewhere\n",
    "        player_position = player_step(old_position=player_position, action=action)\n",
    "        #print(player_position)  #uncomment to see player position!\n",
    "        \n",
    "        ## Get new future state (stack of player_postion and map_grid representing our observation of the environment) and reward associated with it\n",
    "        future_state = np.stack([np.stack([player_position, map_grid], axis=-1)])\n",
    "        reward = -map_grid.ravel()[np.argmax(player_position)]                    #note that we do a negative here, because dangerous holes are mapped +ve in our map\n",
    "        rewardTally += reward\n",
    "        #print(rewardTally)\n",
    "        \n",
    "        ## Check if we fell in the hole, else continue\n",
    "        if rewardTally <= -5.0:\n",
    "            break\n",
    "        \n",
    "        #########################################################################\n",
    "        ## Feed the future state into Deep Q-Network and get max Q value from it\n",
    "        future_state_Q_values = model.predict(x=future_state, batch_size=1)\n",
    "        future_state_max_Q = np.max(future_state_Q_values)\n",
    "        #print(future_state_max_Q)\n",
    "        \n",
    "        ## Implement Bellman equation here!! Q(s,a) = r + γ(max(Q(s’,a’))\n",
    "        #Basically, the Q-value for a given state (s) and action (a) should represent the current reward (r) plus the maximum discounted (γ) future reward expected\n",
    "        target_Q = current_state_Q_values                       #set our target to the current_state first\n",
    "        target_Q[0,action] = reward + gamma*future_state_max_Q  #replace the single Q-value at the index position of the action taken\n",
    "        \n",
    "        ## Retrain our Keras Deep Q-Network to learn this new target Q value\n",
    "        model.fit(x=current_state, y=target_Q, verbose=0, batch_size=1)\n",
    "        \n",
    "        ## Check if we are done (reached goal), otherwise continue\n",
    "        if rewardTally > 0:\n",
    "            epsilon = epsilon - (0.02)  #Reduce (by hardcoded amount) epsilon value, i.e. the chance of random action as we train the model.\n",
    "            break\n",
    "        \n",
    "        ## Set the next current_state as our current future_state\n",
    "        current_state = future_state\n",
    "    \n",
    "    ## After finishing an episode... \n",
    "    rewardList.append(rewardTally) #we append the rewardTally for the episode to the rewardList\n",
    "    \n",
    "    ## Some print information\n",
    "    if i%500==0 and i!=0:\n",
    "        print(f\"Step: {i-500} to {i}, with epsilon: {epsilon}\")\n",
    "        plt.plot(rewardList[-500:])  #plot the 500 last rewardTally-s\n",
    "        plt.show()\n",
    "\n",
    "#Show final score\n",
    "success = len([r for r in rewardList if r == 5])   #when we reached the goal\n",
    "#failure = len([r for r in rewardList if r == 0])  #when we reached nowhere\n",
    "epicfail = len([r for r in rewardList if r == -5]) #when we dropped into a hole\n",
    "\n",
    "print(\"Percent of succesful episodes: \" + str(success/num_episodes) + \"%\")\n",
    "plt.plot(rewardList[-num_episodes:])\n",
    "plt.show()"
   ]
  },
  {
   "cell_type": "markdown",
   "metadata": {},
   "source": [
    "### See how our player does"
   ]
  },
  {
   "cell_type": "code",
   "execution_count": 10,
   "metadata": {},
   "outputs": [],
   "source": [
    "def plot_player_and_map(player_position, map_grid):\n",
    "    \"\"\"\n",
    "    Matplotlib function to plot the player position on the left\n",
    "    and the map_grid position on the right\n",
    "    \"\"\"\n",
    "    assert(player_position.shape == map_grid.shape)\n",
    "    \n",
    "    fig, axarr = plt.subplots(nrows=1, ncols=2, squeeze=False, figsize=(5,5))\n",
    "    axarr[0, 0].imshow(X=player_position, cmap='winter')\n",
    "    axarr[0, 1].imshow(X=-map_grid, cmap='BrBG')\n",
    "    \n",
    "    return plt.show()"
   ]
  },
  {
   "cell_type": "code",
   "execution_count": 11,
   "metadata": {},
   "outputs": [
    {
     "data": {
      "text/plain": "<Figure size 360x360 with 2 Axes>",
      "image/png": "[encoded data removed]"
     },
     "metadata": {
      "needs_background": "light"
     },
     "output_type": "display_data"
    }
   ],
   "source": [
    "player_position = int_to_grid(0)   #we start the player at the topleft corner of our map_grid\n",
    "plot_player_and_map(player_position=player_position, map_grid=map_grid)"
   ]
  },
  {
   "cell_type": "code",
   "execution_count": 12,
   "metadata": {
    "pycharm": {
     "name": "#%%\n"
    }
   },
   "outputs": [
    {
     "name": "stdout",
     "output_type": "stream",
     "text": [
      "Down v\n",
      "Down v\n",
      "Right ->\n",
      "Right ->\n",
      "Down v\n",
      "Right ->\n"
     ]
    },
    {
     "data": {
      "text/plain": "<Figure size 360x360 with 2 Axes>",
      "image/png": "[encoded data removed]"
     },
     "metadata": {
      "needs_background": "light"
     },
     "output_type": "display_data"
    },
    {
     "data": {
      "text/plain": "<Figure size 360x360 with 2 Axes>",
      "image/png": "[encoded data removed]"
     },
     "metadata": {
      "needs_background": "light"
     },
     "output_type": "display_data"
    },
    {
     "data": {
      "text/plain": "<Figure size 360x360 with 2 Axes>",
      "image/png": "[encoded data removed]"
     },
     "metadata": {
      "needs_background": "light"
     },
     "output_type": "display_data"
    },
    {
     "data": {
      "text/plain": "<Figure size 360x360 with 2 Axes>",
      "image/png": "[encoded data removed]"
     },
     "metadata": {
      "needs_background": "light"
     },
     "output_type": "display_data"
    },
    {
     "data": {
      "text/plain": "<Figure size 360x360 with 2 Axes>",
      "image/png": "[encoded data removed]"
     },
     "metadata": {
      "needs_background": "light"
     },
     "output_type": "display_data"
    },
    {
     "data": {
      "text/plain": "<Figure size 360x360 with 2 Axes>",
      "image/png": "[encoded data removed]"
     },
     "metadata": {
      "needs_background": "light"
     },
     "output_type": "display_data"
    }
   ],
   "source": [
    "for i in range(6):  #take 6 steps and see if our player reaches the goal!\n",
    "    #plot_player_and_map(player_position=player_position, map_grid=map_grid)\n",
    "    current_state = np.stack([np.stack([player_position, map_grid], axis=-1)])\n",
    "    current_state_Q_values = model.predict(x=current_state, batch_size=1)\n",
    "    action = np.argmax(current_state_Q_values)\n",
    "    print(actionKeys[action])\n",
    "    player_position = player_step(old_position=player_position, action=action)\n",
    "    plot_player_and_map(player_position=player_position, map_grid=map_grid)"
   ]
  },
  {
   "cell_type": "code",
   "execution_count": null,
   "outputs": [],
   "source": [],
   "metadata": {
    "collapsed": false,
    "pycharm": {
     "name": "#%%\n"
    }
   }
  }
 ],
 "metadata": {
  "kernelspec": {
   "name": "python3",
   "language": "python",
   "display_name": "Python 3"
  },
  "language_info": {
   "codemirror_mode": {
    "name": "ipython",
    "version": 3
   },
   "file_extension": ".py",
   "mimetype": "text/x-python",
   "name": "python",
   "nbconvert_exporter": "python",
   "pygments_lexer": "ipython3",
   "version": "3.6.5"
  }
 },
 "nbformat": 4,
 "nbformat_minor": 2
}