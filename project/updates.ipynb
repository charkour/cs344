{
 "cells": [
  {
   "cell_type": "markdown",
   "metadata": {
    "collapsed": true,
    "pycharm": {
     "name": "#%% md\n"
    }
   },
   "source": [
    "# Updates\n",
    "\n",
    "As of 05/15/20 I have:\n",
    "* created the project README.md and added report.ipynb and updates.ipynb.\n",
    "* updated report to contain the latest write up and results.\n",
    "* tweaked the model for the FrozenLake8x8 game.\n",
    "* completed several training and testing runs for the FrozenLake8x8 game.\n",
    "* made a helper script for testing.\n",
    "* created a slide deck, outline, and presentation for the final showcase. Please contact for the slide deck\n",
    "\n"
   ]
  }
 ],
 "metadata": {
  "kernelspec": {
   "display_name": "${KERNEL_SPEC_DISPLAY_NAME}",
   "language": "${KERNEL_SPEC_LANGUAGE}",
   "name": "${KERNEL_SPEC_NAME}"
  },
  "language_info": {
   "codemirror_mode": {
    "name": "ipython",
    "version": 2
   },
   "file_extension": ".py",
   "mimetype": "text/x-python",
   "name": "python",
   "nbconvert_exporter": "python",
   "pygments_lexer": "ipython2",
   "version": "2.7.6"
  }
 },
 "nbformat": 4,
 "nbformat_minor": 0
}