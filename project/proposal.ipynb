{
 "cells": [
  {
   "cell_type": "markdown",
   "metadata": {
    "collapsed": true,
    "pycharm": {
     "name": "#%% md\n"
    }
   },
   "source": [
    "# Proposal (Draft)\n",
    "I will use reinforcement learning to train an artificial intelligence agent to play the Atari 2600 game, Pitfall. Reinforcement learning is a domain of machine learning where an agent takes actions based on observations in their environment to maximize their reward. The project will fall under the passive reinforcement learning realm which will train a Q-learning agent with an action-utility function (Q-function) to learn the transition model that connects constrained utility states. Learning the transition model will assist the agent in decision making in order to take proper actions to maximize their score in Pitfall. \n",
    "\n",
    "The technology used will be OpenAI’s Gym Python package that contains the Atari 2600 game, Pitfall. The Gym version of the game makes it easy to interface with modern machine learning frameworks, such as Keras, which I will be using to train my artificial intelligence agent. This artificial agent will be a deep neural network trained using reinforcement learning algorithms.\n",
    "\n",
    "\n"
   ]
  }
 ],
 "metadata": {
  "kernelspec": {
   "display_name": "Python 3",
   "language": "python",
   "name": "python3"
  },
  "language_info": {
   "codemirror_mode": {
    "name": "ipython",
    "version": 2
   },
   "file_extension": ".py",
   "mimetype": "text/x-python",
   "name": "python",
   "nbconvert_exporter": "python",
   "pygments_lexer": "ipython2",
   "version": "2.7.6"
  },
  "pycharm": {
   "stem_cell": {
    "cell_type": "raw",
    "source": [],
    "metadata": {
     "collapsed": false
    }
   }
  }
 },
 "nbformat": 4,
 "nbformat_minor": 0
}