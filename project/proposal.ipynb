{
 "cells": [
  {
   "cell_type": "markdown",
   "metadata": {
    "collapsed": true,
    "pycharm": {
     "name": "#%% md\n"
    }
   },
   "source": [
    "# Artificial Intelligence Proposal (Updated 05/06/2020)\n",
    "\n",
    "I will use reinforcement learning to train an artificial intelligence agent to play the Atari 2600 game, *Pitfall!*. Reinforcement learning is a domain of machine learning where an agent takes actions based on observations in their environment to maximize their reward. The project falls under the passive reinforcement learning realm in which a Q-learning agent is trained with an action-utility function (Q-function) to learn the transition model that connects constrained utility states. Learning the transition model will assist the agent in decision making in order to take proper actions to maximize their score in *Pitfall!*.\n",
    "\n",
    "The technology used will be OpenAI’s Gym Python package which has an Atari 2600 emulator to run *Pitfall!*. The Gym version of the game makes it easy to interface with modern machine learning frameworks, such as Keras, which I will be using to train my artificial intelligence agent. This artificial agent will be a deep neural network trained using reinforcement learning algorithms. The data used to train the agent will be an array representation of the current screen state where each pixel has an RGB value, with the shape of the array being (210, 160, 3). For each state, there is an integer value that reinforces each action, with positive integers being positive reinforcement.\n",
    "\n",
    "TODO: Make a note that this is for honors.\n",
    "TODO: See the project guidelines. Need a rough draft of all the sections.\n",
    "TODO: Put the versions of the packages.\n",
    "\n",
    "Can get the same to be setup and then run.\n",
    "TODO: Try with 'PitfallDeterministic-v4'\n",
    "\n",
    "## Vision\n",
    "\n",
    "## Background\n",
    "\n",
    "## Implementation\n",
    "\n",
    "## Results\n",
    "\n",
    "## Implications\n",
    "\n"
   ]
  }
 ],
 "metadata": {
  "kernelspec": {
   "name": "pycharm-6334182b",
   "language": "python",
   "display_name": "PyCharm (344)"
  },
  "language_info": {
   "codemirror_mode": {
    "name": "ipython",
    "version": 2
   },
   "file_extension": ".py",
   "mimetype": "text/x-python",
   "name": "python",
   "nbconvert_exporter": "python",
   "pygments_lexer": "ipython2",
   "version": "2.7.6"
  }
 },
 "nbformat": 4,
 "nbformat_minor": 0
}